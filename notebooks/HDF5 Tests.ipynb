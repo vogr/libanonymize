{
 "cells": [
  {
   "cell_type": "code",
   "execution_count": 8,
   "metadata": {},
   "outputs": [],
   "source": [
    "import numpy as np\n",
    "import h5py\n",
    "\n",
    "import info9"
   ]
  },
  {
   "cell_type": "code",
   "execution_count": 9,
   "metadata": {},
   "outputs": [
    {
     "data": {
      "text/plain": [
       "<function info9.PyCapsule.read_hdf5_dataset>"
      ]
     },
     "execution_count": 9,
     "metadata": {},
     "output_type": "execute_result"
    }
   ],
   "source": [
    "info9.read_hdf5_dataset"
   ]
  },
  {
   "cell_type": "code",
   "execution_count": 28,
   "metadata": {},
   "outputs": [],
   "source": [
    "fname = \"testfile.hdf5\"\n",
    "data = np.array([4.,2.,3.])\n",
    "with h5py.File(fname, \"w\") as f:\n",
    "    f.create_dataset(\"data\", data=data)\n",
    "data=0"
   ]
  },
  {
   "cell_type": "markdown",
   "metadata": {},
   "source": [
    "Les données sont lues par la librairie C++ : les tableaux seront gérés par la librairie sous la forme de matrices `Eigen::MatrixXd` (par la librairie `Eigen`). Cette librairie a été choisie car `pybind11`, utilisé pour donner des *bindings* Python à la librairie C++, permet d'obtenir une vue des matrices `Eigen::MatrixXd` sous la forme de `numpy.array` dans le code Python, i.e. sans copie !\n",
    "\n",
    "Le chemin inverse (`numpy.array` vers `Eigen::MatrixXd`) est moins facile, et nécessite une copie. D'autres méthodes permettraient d'obtenir une vue du `numpy.array` depuis la librairie C++, mais elles sont plus intrusives ; la méthode choisie ici permet d'écrire une librairie C++ ne gérant que des matrices `Eigen::MatrixXd` (i.e. sont connaissance de Python), puis de créer des *bindings* donnant une librairie Python très ergonomique."
   ]
  },
  {
   "cell_type": "code",
   "execution_count": 29,
   "metadata": {},
   "outputs": [
    {
     "data": {
      "text/plain": [
       "False"
      ]
     },
     "execution_count": 29,
     "metadata": {},
     "output_type": "execute_result"
    }
   ],
   "source": [
    "u = info9.read_hdf5_dataset(fname,\"data\")\n",
    "# flags.owndata == false assure que la mémoire est gérée par la\n",
    "# librairie C++, et qu'on y accède sans copie.\n",
    "u.flags.owndata"
   ]
  },
  {
   "cell_type": "code",
   "execution_count": 30,
   "metadata": {},
   "outputs": [
    {
     "data": {
      "text/plain": [
       "False"
      ]
     },
     "execution_count": 30,
     "metadata": {},
     "output_type": "execute_result"
    }
   ],
   "source": [
    "# On peut utiliser les fonctions de la librairie sans copie\n",
    "v = info9.addm(u,u)\n",
    "v.flags.owndata"
   ]
  },
  {
   "cell_type": "code",
   "execution_count": 31,
   "metadata": {},
   "outputs": [
    {
     "data": {
      "text/plain": [
       "True"
      ]
     },
     "execution_count": 31,
     "metadata": {},
     "output_type": "execute_result"
    }
   ],
   "source": [
    "# On peut également effectué des opérations attendant un numpy.array sur le tableau u,\n",
    "# mais, si elle n'opère pas en-place, le résultat sera un numpy.array géré par Python.\n",
    "w = u + u\n",
    "w.flags.owndata"
   ]
  },
  {
   "cell_type": "code",
   "execution_count": 36,
   "metadata": {},
   "outputs": [
    {
     "data": {
      "text/plain": [
       "False"
      ]
     },
     "execution_count": 36,
     "metadata": {},
     "output_type": "execute_result"
    }
   ],
   "source": [
    "# Les fonctions en-place n'opèrent pas de copie.\n",
    "u.sort()\n",
    "u.flags.owndata"
   ]
  },
  {
   "cell_type": "code",
   "execution_count": null,
   "metadata": {},
   "outputs": [],
   "source": []
  }
 ],
 "metadata": {
  "kernelspec": {
   "display_name": "Python 3",
   "language": "python",
   "name": "python3"
  },
  "language_info": {
   "codemirror_mode": {
    "name": "ipython",
    "version": 3
   },
   "file_extension": ".py",
   "mimetype": "text/x-python",
   "name": "python",
   "nbconvert_exporter": "python",
   "pygments_lexer": "ipython3",
   "version": "3.7.7"
  }
 },
 "nbformat": 4,
 "nbformat_minor": 4
}
