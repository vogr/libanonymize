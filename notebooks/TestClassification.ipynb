{
 "cells": [
  {
   "cell_type": "markdown",
   "metadata": {},
   "source": [
    "# Comparaison des classifieurs "
   ]
  },
  {
   "cell_type": "code",
   "execution_count": null,
   "metadata": {},
   "outputs": [],
   "source": [
    "from pathlib import Path\n",
    "import numpy as np\n",
    "\n",
    "import info9"
   ]
  },
  {
   "cell_type": "code",
   "execution_count": 2,
   "metadata": {},
   "outputs": [],
   "source": [
    "LABELS = [\"O\", \"B-MISC\", \"I-MISC\", \"B-PER\", \"I-PER\", \"B-ORG\", \"I-ORG\", \"B-LOC\", \"I-LOC\"]\n",
    "N_ROWS_TRAIN = 10000\n",
    "N_ROWS_TEST = 5000\n",
    "\n",
    "ftrain = Path(\"../data/train.hdf5\")\n",
    "ftesta = Path(\"../data/testa.hdf5\")"
   ]
  },
  {
   "cell_type": "code",
   "execution_count": 3,
   "metadata": {},
   "outputs": [],
   "source": [
    "projecter = info9.RandomProjection(1024, 128, \"Gaussian\")"
   ]
  },
  {
   "cell_type": "code",
   "execution_count": 4,
   "metadata": {},
   "outputs": [],
   "source": [
    "def read_dataset(fdataset, row_limit=500):\n",
    "    proj_dset = projecter.project(info9.read_hdf5_dataset(str(fdataset), \"representation\")[:row_limit])\n",
    "    labels = info9.read_hdf5_dataset(str(fdataset), \"true_labels\")[:row_limit]\n",
    "    return info9.Dataset(proj_dset, labels)"
   ]
  },
  {
   "cell_type": "code",
   "execution_count": 5,
   "metadata": {},
   "outputs": [],
   "source": [
    "def read_dataset_binary(fdataset, row_limit=500, label_of_interest=4):\n",
    "    proj_dset = projecter.project(info9.read_hdf5_dataset(str(fdataset), \"representation\")[:row_limit])\n",
    "    labels = (info9.read_hdf5_dataset(str(fdataset), \"true_labels\")[:row_limit] == label_of_interest).astype(int)\n",
    "    return info9.Dataset(proj_dset, labels)"
   ]
  },
  {
   "cell_type": "markdown",
   "metadata": {},
   "source": [
    "## Binary K-NN classification"
   ]
  },
  {
   "cell_type": "code",
   "execution_count": 6,
   "metadata": {},
   "outputs": [
    {
     "name": "stdout",
     "output_type": "stream",
     "text": [
      "Dataset with 10000 samples, and 128 dimensions.\n",
      "\n"
     ]
    }
   ],
   "source": [
    "dtrain_bin = read_dataset_binary(ftrain, row_limit=N_ROWS_TRAIN)\n",
    "dtesta_bin = read_dataset_binary(ftesta, row_limit=N_ROWS_TEST)\n",
    "\n",
    "print(dtrain_bin.show(False))"
   ]
  },
  {
   "cell_type": "code",
   "execution_count": 34,
   "metadata": {},
   "outputs": [],
   "source": [
    "classifier_bin = info9.KnnClassificationBinary(k=10, dataset=dtrain_bin, threshold=0.2)"
   ]
  },
  {
   "cell_type": "code",
   "execution_count": 35,
   "metadata": {},
   "outputs": [],
   "source": [
    "confusion_matrix_bin = classifier_bin.estimate_all(dtesta_bin)"
   ]
  },
  {
   "cell_type": "code",
   "execution_count": 36,
   "metadata": {
    "scrolled": true
   },
   "outputs": [
    {
     "name": "stdout",
     "output_type": "stream",
     "text": [
      "Confusion matrix after binary k-NN classification on I-PER:\n",
      "\n",
      "\t\tPredicted\n",
      "\t\t0\t1\n",
      "Actual\t0\t4323\t264\n",
      "\t1\t66\t347\n",
      "\n",
      "Error rate\t\t0.066\n",
      "False alarm rate\t0.057554\n",
      "Detection rate\t\t0.840194\n",
      "F-score\t\t\t0.677734\n",
      "Precision\t\t0.567921\n",
      "\n"
     ]
    }
   ],
   "source": [
    "print(\"Confusion matrix after binary k-NN classification on I-PER:\\n\")\n",
    "print(confusion_matrix_bin.PrintEvaluation())"
   ]
  },
  {
   "cell_type": "markdown",
   "metadata": {},
   "source": [
    "## Multiclass K-NN classification"
   ]
  },
  {
   "cell_type": "code",
   "execution_count": 37,
   "metadata": {},
   "outputs": [
    {
     "name": "stdout",
     "output_type": "stream",
     "text": [
      "Dataset with 10000 samples, and 128 dimensions.\n",
      "\n"
     ]
    }
   ],
   "source": [
    "dtrain = read_dataset(ftrain, row_limit=N_ROWS_TRAIN)\n",
    "dtesta = read_dataset(ftesta, row_limit=N_ROWS_TEST)\n",
    "\n",
    "print(dtrain.show(False))"
   ]
  },
  {
   "cell_type": "code",
   "execution_count": 38,
   "metadata": {},
   "outputs": [],
   "source": [
    "classifier = info9.KnnClassificationMulticlass(k=10, dataset=dtrain, labels=LABELS)"
   ]
  },
  {
   "cell_type": "code",
   "execution_count": 39,
   "metadata": {},
   "outputs": [],
   "source": [
    "cm = classifier.estimate_all(dtesta)"
   ]
  },
  {
   "cell_type": "code",
   "execution_count": 40,
   "metadata": {},
   "outputs": [
    {
     "name": "stdout",
     "output_type": "stream",
     "text": [
      "Full confusion matrix after multilabel k-nn classification:\n",
      "\n",
      "\tO\tB-MISC\tI-MISC\tB-PER\tI-PER\tB-ORG\tI-ORG\tB-LOC\tI-LOC\t\n",
      "O\t2589\t20\t399\t0\t342\t0\t346\t0\t291\t\n",
      "B-MISC\t0\t0\t0\t0\t0\t0\t0\t0\t0\t\n",
      "I-MISC\t2\t7\t92\t0\t6\t0\t25\t0\t18\t\n",
      "B-PER\t0\t0\t0\t0\t0\t0\t0\t0\t0\t\n",
      "I-PER\t8\t1\t37\t0\t315\t0\t29\t0\t23\t\n",
      "B-ORG\t0\t0\t0\t0\t0\t0\t0\t0\t0\t\n",
      "I-ORG\t4\t4\t32\t0\t10\t0\t159\t0\t30\t\n",
      "B-LOC\t0\t0\t0\t0\t0\t0\t0\t0\t0\t\n",
      "I-LOC\t1\t1\t35\t0\t11\t0\t34\t0\t129\t\n",
      "\n"
     ]
    }
   ],
   "source": [
    "print(\"Full confusion matrix after multilabel k-nn classification:\\n\")\n",
    "print(cm.PrintMatrix())"
   ]
  },
  {
   "cell_type": "code",
   "execution_count": 41,
   "metadata": {},
   "outputs": [
    {
     "name": "stdout",
     "output_type": "stream",
     "text": [
      "One vs all for I-PER after multiclass K-NN:\n",
      "\n",
      "\t\tPredicted\n",
      "\t\t0\t1\n",
      "Actual\t0\t4218\t369\n",
      "\t1\t98\t315\n",
      "\n",
      "Error rate\t\t0.0934\n",
      "False alarm rate\t0.0804447\n",
      "Detection rate\t\t0.762712\n",
      "F-score\t\t\t0.574294\n",
      "Precision\t\t0.460526\n",
      "\n"
     ]
    }
   ],
   "source": [
    "print(\"One vs all for I-PER after multiclass K-NN:\\n\")\n",
    "print(cm.OneVsAllConfusionMatrix(4).PrintEvaluation())"
   ]
  },
  {
   "cell_type": "code",
   "execution_count": null,
   "metadata": {},
   "outputs": [],
   "source": []
  }
 ],
 "metadata": {
  "kernelspec": {
   "display_name": "Python 3",
   "language": "python",
   "name": "python3"
  },
  "language_info": {
   "codemirror_mode": {
    "name": "ipython",
    "version": 3
   },
   "file_extension": ".py",
   "mimetype": "text/x-python",
   "name": "python",
   "nbconvert_exporter": "python",
   "pygments_lexer": "ipython3",
   "version": "3.7.7"
  }
 },
 "nbformat": 4,
 "nbformat_minor": 4
}
